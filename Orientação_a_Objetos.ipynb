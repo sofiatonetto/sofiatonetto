{
  "nbformat": 4,
  "nbformat_minor": 0,
  "metadata": {
    "colab": {
      "provenance": [],
      "include_colab_link": true
    },
    "kernelspec": {
      "name": "python3",
      "display_name": "Python 3"
    }
  },
  "cells": [
    {
      "cell_type": "markdown",
      "metadata": {
        "id": "view-in-github",
        "colab_type": "text"
      },
      "source": [
        "<a href=\"https://colab.research.google.com/github/sofiatonetto/sofiatonetto/blob/main/Orienta%C3%A7%C3%A3o_a_Objetos.ipynb\" target=\"_parent\"><img src=\"https://colab.research.google.com/assets/colab-badge.svg\" alt=\"Open In Colab\"/></a>"
      ]
    },
    {
      "cell_type": "markdown",
      "metadata": {
        "id": "QlFTfgKfdo2h"
      },
      "source": [
        "# Orientação a Objetos"
      ]
    },
    {
      "cell_type": "code",
      "metadata": {
        "id": "6F0oISzgwJZx"
      },
      "source": [
        "class Triangulo:\n",
        "  def __init__(self, lado1, lado2, lado3, base, altura):\n",
        "    self.lado1 = lado1\n",
        "    self.lado2 = lado2\n",
        "    self.lado3 = lado3\n",
        "    self.base = base\n",
        "    self.altura = altura\n",
        "\n",
        "  def area(self):\n",
        "    return (self.base * self.altura) / 2\n",
        "\n",
        "  def tipo(self):\n",
        "    if self.lado1 > self.lado2 + self.lado3:\n",
        "      return 'não é um triângulo'\n",
        "    elif self.lado1 == self.lado2 or self.lado1 == self.lado3 or self.lado1 == self.lado2:\n",
        "      return 'triângulo isósceles'\n",
        "    else:\n",
        "      return 'outro tipo de triângulo'"
      ],
      "execution_count": null,
      "outputs": []
    },
    {
      "cell_type": "code",
      "metadata": {
        "id": "SDq4Y5ZDwx8c"
      },
      "source": [
        "t1 = Triangulo(5, 1, 3, 4, 3)"
      ],
      "execution_count": null,
      "outputs": []
    },
    {
      "cell_type": "code",
      "metadata": {
        "id": "hq763UNxxApW",
        "colab": {
          "base_uri": "https://localhost:8080/"
        },
        "outputId": "f5628dbb-8cf9-486e-daa7-06fcb435d7e1"
      },
      "source": [
        "print(t1.lado1, t1.lado2, t1.lado3, t1.base, t1.altura)"
      ],
      "execution_count": null,
      "outputs": [
        {
          "output_type": "stream",
          "name": "stdout",
          "text": [
            "5 1 3 4 3\n"
          ]
        }
      ]
    },
    {
      "cell_type": "code",
      "metadata": {
        "id": "OzOP8kKPyKus",
        "colab": {
          "base_uri": "https://localhost:8080/"
        },
        "outputId": "a1bd883f-d770-48ac-81c4-037762720747"
      },
      "source": [
        "t1.area()"
      ],
      "execution_count": null,
      "outputs": [
        {
          "output_type": "execute_result",
          "data": {
            "text/plain": [
              "6.0"
            ]
          },
          "metadata": {},
          "execution_count": 4
        }
      ]
    },
    {
      "cell_type": "code",
      "source": [],
      "metadata": {
        "id": "uROgdw-WTlHT"
      },
      "execution_count": null,
      "outputs": []
    },
    {
      "cell_type": "code",
      "metadata": {
        "id": "YcGAuLMEzCx-",
        "colab": {
          "base_uri": "https://localhost:8080/",
          "height": 36
        },
        "outputId": "04e6b7d8-8638-4f89-8174-99fc5b3ad5b9"
      },
      "source": [
        "t1.tipo()"
      ],
      "execution_count": null,
      "outputs": [
        {
          "output_type": "execute_result",
          "data": {
            "text/plain": [
              "'não é um triângulo'"
            ],
            "application/vnd.google.colaboratory.intrinsic+json": {
              "type": "string"
            }
          },
          "metadata": {},
          "execution_count": 5
        }
      ]
    },
    {
      "cell_type": "code",
      "metadata": {
        "id": "3WRbsJ0sxJy-",
        "colab": {
          "base_uri": "https://localhost:8080/"
        },
        "outputId": "787bf683-ca6e-4444-d300-3151d220a413"
      },
      "source": [
        "t2 = Triangulo(8, 8, 8, 16, 9)\n",
        "print(t2.lado1, t2.lado2, t2.lado3, t2.base, t2.altura)"
      ],
      "execution_count": null,
      "outputs": [
        {
          "output_type": "stream",
          "name": "stdout",
          "text": [
            "8 8 8 16 9\n"
          ]
        }
      ]
    },
    {
      "cell_type": "code",
      "metadata": {
        "id": "iBlImwTXyWry",
        "colab": {
          "base_uri": "https://localhost:8080/"
        },
        "outputId": "e3f63448-b656-4fb9-8c5c-49e617a754c7"
      },
      "source": [
        "t2.area()"
      ],
      "execution_count": null,
      "outputs": [
        {
          "output_type": "execute_result",
          "data": {
            "text/plain": [
              "72.0"
            ]
          },
          "metadata": {},
          "execution_count": 7
        }
      ]
    },
    {
      "cell_type": "code",
      "metadata": {
        "id": "K7aNze6dzG-8",
        "colab": {
          "base_uri": "https://localhost:8080/",
          "height": 36
        },
        "outputId": "24259ff1-42e1-4c8b-d819-842b5a98b79c"
      },
      "source": [
        "t2.tipo()"
      ],
      "execution_count": null,
      "outputs": [
        {
          "output_type": "execute_result",
          "data": {
            "text/plain": [
              "'triângulo isósceles'"
            ],
            "application/vnd.google.colaboratory.intrinsic+json": {
              "type": "string"
            }
          },
          "metadata": {},
          "execution_count": 8
        }
      ]
    }
  ]
}